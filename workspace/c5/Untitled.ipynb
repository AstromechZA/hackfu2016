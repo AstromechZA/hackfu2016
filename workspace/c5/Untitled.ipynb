{
 "cells": [
  {
   "cell_type": "code",
   "execution_count": 1,
   "metadata": {
    "collapsed": true
   },
   "outputs": [],
   "source": [
    "dataStrings = [\n",
    "    '01001011',\n",
    "    '_1010000',\n",
    "    '01_11111',\n",
    "    '10000110',\n",
    "    '_0001000',\n",
    "    '1_111001',\n",
    "    '11__0011',\n",
    "    '_1000001',\n",
    "    '0__10010',\n",
    "    '01011001',\n",
    "    '00001010',\n",
    "    '_1111000',\n",
    "    '101_1111',\n",
    "    '00_01111',\n",
    "    '01111110',\n",
    "    '_0100000',\n",
    "    '00101011',\n",
    "    '_10_1111',\n",
    "    '_1100100',\n",
    "    '10_01110',\n",
    "    '010_1101',\n",
    "    '__101100',\n",
    "    '11011110',\n",
    "    '0_000100',\n",
    "    '11111101',\n",
    "    '10101001',\n",
    "    '10011000',\n",
    "    '10_11100',\n",
    "    '10_10000',\n",
    "    '11101000',\n",
    "    '00_11001',\n",
    "    '00111000'\n",
    "]"
   ]
  },
  {
   "cell_type": "code",
   "execution_count": 18,
   "metadata": {
    "collapsed": false
   },
   "outputs": [
    {
     "name": "stdout",
     "output_type": "stream",
     "text": [
      "11010010\n",
      "01100001\n",
      "10011010\n",
      "01010000\n",
      "01111110\n",
      "11010100\n",
      "01111011\n",
      "10111111\n",
      "10010101\n",
      "00011001\n",
      "00010111\n",
      "00011100\n"
     ]
    }
   ],
   "source": [
    "filledPairs = [(i, e) for i,e in enumerate(dataStrings) if '_' not in e]\n",
    "for p in filledPairs:\n",
    "    print p[1][::-1]"
   ]
  },
  {
   "cell_type": "code",
   "execution_count": null,
   "metadata": {
    "collapsed": true
   },
   "outputs": [],
   "source": []
  }
 ],
 "metadata": {
  "kernelspec": {
   "display_name": "Python 2",
   "language": "python",
   "name": "python2"
  },
  "language_info": {
   "codemirror_mode": {
    "name": "ipython",
    "version": 2
   },
   "file_extension": ".py",
   "mimetype": "text/x-python",
   "name": "python",
   "nbconvert_exporter": "python",
   "pygments_lexer": "ipython2",
   "version": "2.7.11"
  }
 },
 "nbformat": 4,
 "nbformat_minor": 0
}
