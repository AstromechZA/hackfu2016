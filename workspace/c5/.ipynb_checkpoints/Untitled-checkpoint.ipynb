{
 "cells": [
  {
   "cell_type": "code",
   "execution_count": null,
   "metadata": {
    "collapsed": true
   },
   "outputs": [],
   "source": [
    "dataStrings = [\n",
    "    '01001011',\n",
    "    '_1010000',\n",
    "    '01_11111',\n",
    "    '10000110',\n",
    "    '_0001000',\n",
    "    '1_111001',\n",
    "    '11__0011',\n",
    "    '_1000001',\n",
    "    '0__10010',\n",
    "    '01011001',\n",
    "    '00001010',\n",
    "    '_1111000',\n",
    "    '101_1111',\n",
    "    '00_01111',\n",
    "    '01111110',\n",
    "    '_0100000',\n",
    "    '00101011',\n",
    "    '_10_1111',\n",
    "    '_1100100',\n",
    "    '10_01110',\n",
    "    '010_1101',\n",
    "    '__101100',\n",
    "    '11011110',\n",
    "    '0_000100',\n",
    "    '11111101',\n",
    "    '10101001',\n",
    "    '10011000',\n",
    "    '10_11100',\n",
    "    '10_10000',\n",
    "    '11101000',\n",
    "    '00_11001',\n",
    "    '00111000'\n",
    "]"
   ]
  }
 ],
 "metadata": {
  "kernelspec": {
   "display_name": "Python 2",
   "language": "python",
   "name": "python2"
  },
  "language_info": {
   "codemirror_mode": {
    "name": "ipython",
    "version": 2
   },
   "file_extension": ".py",
   "mimetype": "text/x-python",
   "name": "python",
   "nbconvert_exporter": "python",
   "pygments_lexer": "ipython2",
   "version": "2.7.11"
  }
 },
 "nbformat": 4,
 "nbformat_minor": 0
}
