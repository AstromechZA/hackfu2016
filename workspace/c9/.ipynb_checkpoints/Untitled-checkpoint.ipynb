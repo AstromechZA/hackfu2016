{
 "cells": [
  {
   "cell_type": "code",
   "execution_count": 2,
   "metadata": {
    "collapsed": false
   },
   "outputs": [],
   "source": [
    "from collections import namedtuple, defaultdict\n",
    "Row = namedtuple('Row', ['date', 'b1', 'b2', 'message', 'writer', 'c'])\n",
    "import re\n",
    "linere = re.compile('(.+?):([-\\d\\.]+)?,?([-\\d\\.]+)?(.+?)(#\\w+?):((?:[-\\d\\.]+)|\\?)')\n",
    "\n",
    "\n",
    "class Row(object):\n",
    "    def __init__(self, date, b1, b2, message, writer, c):\n",
    "        self.date = date\n",
    "        self.b1 = b1\n",
    "        self.b2 = b2\n",
    "        self.message = message\n",
    "        self.writer = writer\n",
    "        if c == '?':\n",
    "            c = None\n",
    "        self.c = c\n",
    "        self.day = int(date[-2:])\n",
    "        if self.b1:\n",
    "            self.b1 = float(self.b1)\n",
    "        if self.b2:\n",
    "            self.b2 = float(self.b2)\n",
    "        if self.c:\n",
    "            self.c = float(self.c)\n",
    "            \n",
    "    def to_eq_tup(self):\n",
    "        \n",
    "        y = None\n",
    "        if self.writer == '#canine':\n",
    "            y = 28\n",
    "        elif self.writer == '#exile':\n",
    "            y = 27\n",
    "        elif self.writer == '#wicker':\n",
    "            y = -23\n",
    "        return (y, self.b1, self.b2, self.c)"
   ]
  },
  {
   "cell_type": "code",
   "execution_count": 3,
   "metadata": {
    "collapsed": true
   },
   "outputs": [],
   "source": [
    "def solve_simultaneous((i, a, b, c), (j, d, e, f)):\n",
    "    # first convert into shorter form\n",
    "    cc = i - c\n",
    "    ff = j - f\n",
    "    \n",
    "    # unique check\n",
    "    if ((a*e - d*b) != 0) and ((b*d - e*a) != 0):\n",
    "        # solve\n",
    "        x = (cc*e - ff*b) / (a*e - d*b);\n",
    "        y = (cc*d - ff*a) / (b*d - e*a);\n",
    "        return x, y\n",
    "    else:\n",
    "        raise 'AAAgh - non unique solution'\n",
    "\n",
    "def check_solution((i, a, b, c), x, y):\n",
    "    v = a*x + b*y + c\n",
    "    if v == i:\n",
    "        return True\n",
    "    else:\n",
    "        print \"Nope, %f != %f\" % (v, i)\n",
    "        return False\n",
    "    \n",
    "def convert_to_y((i, a, b, c)):\n",
    "    # i = ax + by + c\n",
    "    # i - c = ax + by\n",
    "    # i - c - ax / b = y\n",
    "    # \n",
    "    ii = i / b\n",
    "    cc = c / b\n",
    "    aa = a / b\n",
    "    \n",
    "    left = \"y = %f\" % (ii - cc)\n",
    "    if aa >= 0:\n",
    "        left += \" - %fx\" % aa\n",
    "    else:\n",
    "        left += \" + %fx\" % abs(aa)\n",
    "    \n",
    "    return left"
   ]
  },
  {
   "cell_type": "code",
   "execution_count": 4,
   "metadata": {
    "collapsed": false
   },
   "outputs": [],
   "source": [
    "with open('previous_messages.csv', 'r') as f:\n",
    "    data = f.read()\n",
    "lines = data.strip().split('\\n')\n",
    "final = []\n",
    "for l in lines:\n",
    "    m = linere.match(l)\n",
    "    d = m.groups()\n",
    "    final.append(Row(*d))"
   ]
  },
  {
   "cell_type": "code",
   "execution_count": 5,
   "metadata": {
    "collapsed": false
   },
   "outputs": [
    {
     "name": "stdout",
     "output_type": "stream",
     "text": [
      "{'#canine': 6, '#exile': 6, '#wicker': 3, '#vendetta': 4, '#ignite': 3}\n"
     ]
    }
   ],
   "source": [
    "counts = defaultdict(int)\n",
    "for r in final:\n",
    "    counts[r.writer] += 1\n",
    "print dict(counts)"
   ]
  },
  {
   "cell_type": "code",
   "execution_count": 7,
   "metadata": {
    "collapsed": false
   },
   "outputs": [
    {
     "name": "stdout",
     "output_type": "stream",
     "text": [
      "#canine 24.238149 26.942855 30.280603\n",
      "#canine 28.473445 27.00094 30.638373\n",
      "#canine 29.645472 -22.078782 29.647521\n",
      "#exile -22.705681 28.833722 28.473445\n",
      "#exile -24.902404 27.632648 29.645472\n",
      "#exile -20.449581 28.382273 28.73662\n",
      "#vendetta 30.638373 28.381128 -25.984645\n",
      "#vendetta -25.984645 28.375873 -24.902404\n",
      "#vendetta 28.73662 29.448267 None\n",
      "#wicker 30.280603 -24.454848 -22.705681\n",
      "#wicker 29.647521 28.998879 -20.449581\n"
     ]
    }
   ],
   "source": [
    "for r in sorted(final, key=lambda i:i.writer):\n",
    "    if r.b1 and r.b2 and r.c:\n",
    "        e = \"%fx\" % r.b1\n",
    "        e += \" + \" if r.b2 > 0 else \" - \"\n",
    "        e += \"%fz\" % abs(r.b2) \n",
    "        e += \" + \" if r.c > 0 else \" - \"\n",
    "        e += \"%f\" % abs(r.c) \n",
    "        \n",
    "        print r.writer, \"y = %s\" % e\n",
    "    "
   ]
  },
  {
   "cell_type": "code",
   "execution_count": null,
   "metadata": {
    "collapsed": false
   },
   "outputs": [],
   "source": []
  },
  {
   "cell_type": "code",
   "execution_count": 133,
   "metadata": {
    "collapsed": false
   },
   "outputs": [],
   "source": [
    "x, y = solve_simultaneous((16, -22.705681, 28.833722, 28.473445), (29, -24.902404, 27.632648, 29.645472))"
   ]
  },
  {
   "cell_type": "code",
   "execution_count": 134,
   "metadata": {
    "collapsed": false
   },
   "outputs": [
    {
     "name": "stdout",
     "output_type": "stream",
     "text": [
      "Nope, 9.619179 != 19.000000\n",
      "False\n"
     ]
    }
   ],
   "source": [
    "print check_solution((19, -20.449581, 28.382273, 28.73662), x, y)"
   ]
  },
  {
   "cell_type": "code",
   "execution_count": 142,
   "metadata": {
    "collapsed": false
   },
   "outputs": [
    {
     "name": "stdout",
     "output_type": "stream",
     "text": [
      "y = -0.343053 + 0.720505x\n"
     ]
    }
   ],
   "source": [
    "print convert_to_y((19, -20.449581, 28.382273, 28.73662))"
   ]
  },
  {
   "cell_type": "code",
   "execution_count": null,
   "metadata": {
    "collapsed": true
   },
   "outputs": [],
   "source": []
  }
 ],
 "metadata": {
  "kernelspec": {
   "display_name": "Python 2",
   "language": "python",
   "name": "python2"
  },
  "language_info": {
   "codemirror_mode": {
    "name": "ipython",
    "version": 2
   },
   "file_extension": ".py",
   "mimetype": "text/x-python",
   "name": "python",
   "nbconvert_exporter": "python",
   "pygments_lexer": "ipython2",
   "version": "2.7.11"
  }
 },
 "nbformat": 4,
 "nbformat_minor": 0
}
